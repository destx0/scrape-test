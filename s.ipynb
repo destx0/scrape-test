{
 "cells": [
  {
   "cell_type": "code",
   "execution_count": 43,
   "metadata": {},
   "outputs": [
    {
     "name": "stdout",
     "output_type": "stream",
     "text": [
      "4\n",
      "Extracted and renamed 6 elements. Added ultimate parent <ul>. Results saved to 'output2.html'.\n"
     ]
    }
   ],
   "source": [
    "from bs4 import BeautifulSoup\n",
    "\n",
    "with open('t2.html', 'r', encoding='utf-8') as file:\n",
    "    html_content = file.read()\n",
    "\n",
    "soup = BeautifulSoup(html_content, 'html.parser')\n",
    "\n",
    "elements = soup.find_all(class_='qns-view-box')[:6]\n",
    "\n",
    "new_tags = ['question', 'opta', 'optb', 'optc', 'optd', 'soln']\n",
    "res = \"\"\n",
    "with open('output2.html', 'w', encoding='utf-8') as output_file:\n",
    "    if elements:\n",
    "        current = elements[1]\n",
    "        ultimate_parent_ul = None\n",
    "        while current.parent:\n",
    "            if current.name == 'ul':\n",
    "                ultimate_parent_ul = current\n",
    "                break\n",
    "            current = current.parent\n",
    "\n",
    "        if ultimate_parent_ul:\n",
    "            for i , li in enumerate(ultimate_parent_ul.find_all('li')):\n",
    "                if li.find(class_='correctness'): \n",
    "                    for j, element in enumerate(elements):\n",
    "                        if j < len(new_tags):\n",
    "                            element.name = new_tags[j]\n",
    "                            for attr in list(element.attrs):\n",
    "                                del element[attr]\n",
    "                            output_file.write(str(element) + '\\n\\n')\n",
    "                    print(i + 1)\n",
    "                    output_file.write(f\"<correctOption>{i}</correctOption>\" + '\\n\\n')\n",
    "                    break\n",
    "\n",
    "print(f\"Extracted and renamed {len(elements)} elements. Added ultimate parent <ul>. Results saved to 'output2.html'.\")"
   ]
  }
 ],
 "metadata": {
  "kernelspec": {
   "display_name": "Python 3",
   "language": "python",
   "name": "python3"
  },
  "language_info": {
   "codemirror_mode": {
    "name": "ipython",
    "version": 3
   },
   "file_extension": ".py",
   "mimetype": "text/x-python",
   "name": "python",
   "nbconvert_exporter": "python",
   "pygments_lexer": "ipython3",
   "version": "3.12.3"
  }
 },
 "nbformat": 4,
 "nbformat_minor": 2
}
